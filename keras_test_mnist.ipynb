{
 "cells": [
  {
   "cell_type": "code",
   "execution_count": 118,
   "metadata": {},
   "outputs": [],
   "source": [
    "# import ml libraries \n",
    "from keras.models import Sequential \n",
    "from keras.layers import Dense\n",
    "\n",
    "# import data manipulation tools  \n",
    "import mnist \n",
    "import numpy as np \n",
    "from sklearn.preprocessing import OneHotEncoder\n",
    "from sklearn.preprocessing import StandardScaler\n",
    "from keras.utils import to_categorical\n"
   ]
  },
  {
   "cell_type": "code",
   "execution_count": 113,
   "metadata": {},
   "outputs": [],
   "source": [
    "# load data \n",
    "train_X, train_y = mnist.train_images(), mnist.train_labels()\n",
    "test_X, test_y = mnist.test_images(), mnist.test_labels()"
   ]
  },
  {
   "cell_type": "code",
   "execution_count": 114,
   "metadata": {},
   "outputs": [
    {
     "name": "stdout",
     "output_type": "stream",
     "text": [
      "train: (60000, 28, 28) , test: (60000,)\n"
     ]
    }
   ],
   "source": [
    "# display a lil' data \n",
    "print('train:', train_X.shape, ', test:',train_y.shape)"
   ]
  },
  {
   "cell_type": "code",
   "execution_count": 115,
   "metadata": {},
   "outputs": [],
   "source": [
    "# flatten images so the input tensor is a vector \n",
    "train_X, test_X = train_X.reshape(-1, 28*28), test_X.reshape(-1, 28*28)"
   ]
  },
  {
   "cell_type": "code",
   "execution_count": 116,
   "metadata": {},
   "outputs": [],
   "source": [
    "# one hot encode labels \n",
    "train_y_hot, test_y_hot = to_categorical(train_y), to_categorical(test_y)"
   ]
  },
  {
   "cell_type": "code",
   "execution_count": 122,
   "metadata": {},
   "outputs": [],
   "source": [
    "# standardize data \n",
    "scaler = StandardScaler().fit(train_X)\n",
    "train_X, test_X = scaler.transform(train_X), scaler.transform(test_X)"
   ]
  },
  {
   "cell_type": "code",
   "execution_count": null,
   "metadata": {},
   "outputs": [],
   "source": []
  },
  {
   "cell_type": "code",
   "execution_count": 127,
   "metadata": {},
   "outputs": [],
   "source": [
    "# create model w/ sigmoid \n",
    "model = Sequential()\n",
    "model.add(Dense(units=int(28*28/2), activation='sigmoid', input_dim=train_X.shape[1]))\n",
    "model.add(Dense(units=10, activation='sigmoid'))\n",
    "model.compile(loss='categorical_crossentropy', \n",
    "              optimizer='sgd',\n",
    "              metrics=['accuracy'])"
   ]
  },
  {
   "cell_type": "code",
   "execution_count": 130,
   "metadata": {},
   "outputs": [
    {
     "name": "stdout",
     "output_type": "stream",
     "text": [
      "Epoch 1/100\n",
      "60000/60000 [==============================] - 4s 59us/step - loss: 0.2998 - acc: 0.9146\n",
      "Epoch 2/100\n",
      "60000/60000 [==============================] - 4s 59us/step - loss: 0.2829 - acc: 0.9191\n",
      "Epoch 3/100\n",
      "60000/60000 [==============================] - 4s 59us/step - loss: 0.2706 - acc: 0.9224\n",
      "Epoch 4/100\n",
      "60000/60000 [==============================] - 4s 60us/step - loss: 0.2608 - acc: 0.9252: 0s - loss: 0.2607 - acc: 0.92\n",
      "Epoch 5/100\n",
      "60000/60000 [==============================] - 4s 61us/step - loss: 0.2524 - acc: 0.9277\n",
      "Epoch 6/100\n",
      "60000/60000 [==============================] - 4s 60us/step - loss: 0.2454 - acc: 0.9294: 0s - loss: 0.2\n",
      "Epoch 7/100\n",
      "60000/60000 [==============================] - 4s 64us/step - loss: 0.2387 - acc: 0.9312\n",
      "Epoch 8/100\n",
      "60000/60000 [==============================] - 4s 60us/step - loss: 0.2329 - acc: 0.9334\n",
      "Epoch 9/100\n",
      "60000/60000 [==============================] - 4s 59us/step - loss: 0.2275 - acc: 0.9346\n",
      "Epoch 10/100\n",
      "60000/60000 [==============================] - 4s 60us/step - loss: 0.2222 - acc: 0.9366\n",
      "Epoch 11/100\n",
      "60000/60000 [==============================] - 4s 61us/step - loss: 0.2173 - acc: 0.9379\n",
      "Epoch 12/100\n",
      "60000/60000 [==============================] - 4s 60us/step - loss: 0.2126 - acc: 0.9392ETA: 1s\n",
      "Epoch 13/100\n",
      "60000/60000 [==============================] - 4s 61us/step - loss: 0.2082 - acc: 0.9406\n",
      "Epoch 14/100\n",
      "60000/60000 [==============================] - 4s 61us/step - loss: 0.2035 - acc: 0.9421\n",
      "Epoch 15/100\n",
      "60000/60000 [==============================] - 4s 61us/step - loss: 0.1996 - acc: 0.9430\n",
      "Epoch 16/100\n",
      "60000/60000 [==============================] - 4s 63us/step - loss: 0.1953 - acc: 0.9445\n",
      "Epoch 17/100\n",
      "60000/60000 [==============================] - 4s 63us/step - loss: 0.1912 - acc: 0.9456\n",
      "Epoch 18/100\n",
      "60000/60000 [==============================] - 4s 64us/step - loss: 0.1874 - acc: 0.9472\n",
      "Epoch 19/100\n",
      "60000/60000 [==============================] - 4s 64us/step - loss: 0.1836 - acc: 0.9484\n",
      "Epoch 20/100\n",
      "60000/60000 [==============================] - 4s 63us/step - loss: 0.1799 - acc: 0.9493\n",
      "Epoch 21/100\n",
      "60000/60000 [==============================] - 4s 63us/step - loss: 0.1762 - acc: 0.9511\n",
      "Epoch 22/100\n",
      "60000/60000 [==============================] - 4s 63us/step - loss: 0.1728 - acc: 0.9517\n",
      "Epoch 23/100\n",
      "60000/60000 [==============================] - 4s 63us/step - loss: 0.1693 - acc: 0.9529\n",
      "Epoch 24/100\n",
      "60000/60000 [==============================] - 4s 64us/step - loss: 0.1661 - acc: 0.9532\n",
      "Epoch 25/100\n",
      "60000/60000 [==============================] - 4s 63us/step - loss: 0.1628 - acc: 0.9551\n",
      "Epoch 26/100\n",
      "60000/60000 [==============================] - 4s 63us/step - loss: 0.1595 - acc: 0.9555\n",
      "Epoch 27/100\n",
      "60000/60000 [==============================] - 4s 67us/step - loss: 0.1566 - acc: 0.9566\n",
      "Epoch 28/100\n",
      "60000/60000 [==============================] - 4s 67us/step - loss: 0.1535 - acc: 0.9576\n",
      "Epoch 29/100\n",
      "60000/60000 [==============================] - 4s 61us/step - loss: 0.1505 - acc: 0.9585\n",
      "Epoch 30/100\n",
      "60000/60000 [==============================] - 4s 63us/step - loss: 0.1476 - acc: 0.9591\n",
      "Epoch 31/100\n",
      "60000/60000 [==============================] - 4s 63us/step - loss: 0.1449 - acc: 0.9600\n",
      "Epoch 32/100\n",
      "60000/60000 [==============================] - 4s 63us/step - loss: 0.1421 - acc: 0.9609\n",
      "Epoch 33/100\n",
      "60000/60000 [==============================] - 4s 62us/step - loss: 0.1395 - acc: 0.9617\n",
      "Epoch 34/100\n",
      "60000/60000 [==============================] - 4s 63us/step - loss: 0.1368 - acc: 0.9624\n",
      "Epoch 35/100\n",
      "60000/60000 [==============================] - 4s 62us/step - loss: 0.1343 - acc: 0.9632\n",
      "Epoch 36/100\n",
      "60000/60000 [==============================] - 4s 63us/step - loss: 0.1318 - acc: 0.9639\n",
      "Epoch 37/100\n",
      "60000/60000 [==============================] - 4s 66us/step - loss: 0.1293 - acc: 0.9646: 1s - loss:\n",
      "Epoch 38/100\n",
      "60000/60000 [==============================] - 4s 63us/step - loss: 0.1269 - acc: 0.9654\n",
      "Epoch 39/100\n",
      "60000/60000 [==============================] - 4s 63us/step - loss: 0.1247 - acc: 0.9659\n",
      "Epoch 40/100\n",
      "60000/60000 [==============================] - 4s 63us/step - loss: 0.1225 - acc: 0.9665\n",
      "Epoch 41/100\n",
      "60000/60000 [==============================] - 4s 62us/step - loss: 0.1202 - acc: 0.9677\n",
      "Epoch 42/100\n",
      "60000/60000 [==============================] - 4s 63us/step - loss: 0.1180 - acc: 0.9680\n",
      "Epoch 43/100\n",
      "60000/60000 [==============================] - 4s 63us/step - loss: 0.1159 - acc: 0.9687\n",
      "Epoch 44/100\n",
      "60000/60000 [==============================] - 4s 63us/step - loss: 0.1138 - acc: 0.9692\n",
      "Epoch 45/100\n",
      "60000/60000 [==============================] - 4s 64us/step - loss: 0.1118 - acc: 0.9703\n",
      "Epoch 46/100\n",
      "60000/60000 [==============================] - 4s 64us/step - loss: 0.1098 - acc: 0.9707\n",
      "Epoch 47/100\n",
      "60000/60000 [==============================] - 4s 73us/step - loss: 0.1079 - acc: 0.9712\n",
      "Epoch 48/100\n",
      "60000/60000 [==============================] - 4s 70us/step - loss: 0.1061 - acc: 0.9719: 0s - loss: 0.1057\n",
      "Epoch 49/100\n",
      "60000/60000 [==============================] - 4s 68us/step - loss: 0.1043 - acc: 0.9721: 0s - loss: 0.1057 \n",
      "Epoch 50/100\n",
      "60000/60000 [==============================] - 4s 66us/step - loss: 0.1024 - acc: 0.9728\n",
      "Epoch 51/100\n",
      "60000/60000 [==============================] - 4s 74us/step - loss: 0.1007 - acc: 0.9735: 0s - loss: 0.1009 \n",
      "Epoch 52/100\n",
      "60000/60000 [==============================] - 4s 72us/step - loss: 0.0990 - acc: 0.9740\n",
      "Epoch 53/100\n",
      "60000/60000 [==============================] - 4s 70us/step - loss: 0.0972 - acc: 0.9746\n",
      "Epoch 54/100\n",
      "60000/60000 [==============================] - 4s 62us/step - loss: 0.0956 - acc: 0.9752\n",
      "Epoch 55/100\n",
      "60000/60000 [==============================] - 4s 69us/step - loss: 0.0940 - acc: 0.9757\n",
      "Epoch 56/100\n",
      "60000/60000 [==============================] - 5s 75us/step - loss: 0.0924 - acc: 0.9759\n",
      "Epoch 57/100\n",
      "60000/60000 [==============================] - 4s 73us/step - loss: 0.0909 - acc: 0.9766\n",
      "Epoch 58/100\n",
      "60000/60000 [==============================] - 4s 65us/step - loss: 0.0894 - acc: 0.9771\n",
      "Epoch 59/100\n",
      "60000/60000 [==============================] - 4s 64us/step - loss: 0.0880 - acc: 0.9771\n",
      "Epoch 60/100\n",
      "60000/60000 [==============================] - 4s 69us/step - loss: 0.0864 - acc: 0.9780\n",
      "Epoch 61/100\n",
      "60000/60000 [==============================] - 4s 70us/step - loss: 0.0851 - acc: 0.9784\n",
      "Epoch 62/100\n",
      "60000/60000 [==============================] - 4s 68us/step - loss: 0.0837 - acc: 0.9790\n",
      "Epoch 63/100\n",
      "60000/60000 [==============================] - 4s 69us/step - loss: 0.0824 - acc: 0.9790\n",
      "Epoch 64/100\n",
      "60000/60000 [==============================] - 4s 69us/step - loss: 0.0810 - acc: 0.9798: 0s - loss: 0.0819 - \n",
      "Epoch 65/100\n",
      "60000/60000 [==============================] - 4s 67us/step - loss: 0.0797 - acc: 0.9799\n",
      "Epoch 66/100\n",
      "60000/60000 [==============================] - 4s 70us/step - loss: 0.0785 - acc: 0.9803\n",
      "Epoch 67/100\n",
      "60000/60000 [==============================] - 4s 68us/step - loss: 0.0771 - acc: 0.9805:\n",
      "Epoch 68/100\n",
      "60000/60000 [==============================] - 4s 69us/step - loss: 0.0760 - acc: 0.9813\n",
      "Epoch 69/100\n",
      "60000/60000 [==============================] - 4s 68us/step - loss: 0.0748 - acc: 0.9814\n",
      "Epoch 70/100\n",
      "60000/60000 [==============================] - 4s 68us/step - loss: 0.0736 - acc: 0.9813\n",
      "Epoch 71/100\n",
      "60000/60000 [==============================] - 4s 68us/step - loss: 0.0724 - acc: 0.9821\n",
      "Epoch 72/100\n",
      "60000/60000 [==============================] - 4s 68us/step - loss: 0.0713 - acc: 0.9825\n",
      "Epoch 73/100\n",
      "60000/60000 [==============================] - 4s 69us/step - loss: 0.0702 - acc: 0.9825\n",
      "Epoch 74/100\n",
      "60000/60000 [==============================] - 4s 68us/step - loss: 0.0691 - acc: 0.9832\n",
      "Epoch 75/100\n",
      "60000/60000 [==============================] - 4s 71us/step - loss: 0.0680 - acc: 0.9832\n",
      "Epoch 76/100\n",
      "60000/60000 [==============================] - 4s 72us/step - loss: 0.0671 - acc: 0.9836\n",
      "Epoch 77/100\n",
      "60000/60000 [==============================] - 4s 71us/step - loss: 0.0660 - acc: 0.9840\n",
      "Epoch 78/100\n",
      "60000/60000 [==============================] - 4s 73us/step - loss: 0.0650 - acc: 0.9843\n",
      "Epoch 79/100\n",
      "60000/60000 [==============================] - 4s 73us/step - loss: 0.0641 - acc: 0.9845\n"
     ]
    },
    {
     "name": "stdout",
     "output_type": "stream",
     "text": [
      "Epoch 80/100\n",
      "60000/60000 [==============================] - 4s 65us/step - loss: 0.0631 - acc: 0.9848\n",
      "Epoch 81/100\n",
      "60000/60000 [==============================] - 4s 65us/step - loss: 0.0622 - acc: 0.9849\n",
      "Epoch 82/100\n",
      "60000/60000 [==============================] - 4s 64us/step - loss: 0.0612 - acc: 0.9852\n",
      "Epoch 83/100\n",
      "60000/60000 [==============================] - 4s 64us/step - loss: 0.0603 - acc: 0.9855\n",
      "Epoch 84/100\n",
      "60000/60000 [==============================] - 4s 63us/step - loss: 0.0594 - acc: 0.9858\n",
      "Epoch 85/100\n",
      "60000/60000 [==============================] - 4s 65us/step - loss: 0.0585 - acc: 0.9861\n",
      "Epoch 86/100\n",
      "60000/60000 [==============================] - 4s 65us/step - loss: 0.0577 - acc: 0.9864\n",
      "Epoch 87/100\n",
      "60000/60000 [==============================] - 4s 70us/step - loss: 0.0568 - acc: 0.9867: 0s - loss: 0.\n",
      "Epoch 88/100\n",
      "60000/60000 [==============================] - 4s 68us/step - loss: 0.0560 - acc: 0.9869\n",
      "Epoch 89/100\n",
      "60000/60000 [==============================] - 4s 69us/step - loss: 0.0552 - acc: 0.9868\n",
      "Epoch 90/100\n",
      "60000/60000 [==============================] - 4s 65us/step - loss: 0.0545 - acc: 0.9874\n",
      "Epoch 91/100\n",
      "60000/60000 [==============================] - 4s 68us/step - loss: 0.0536 - acc: 0.9875\n",
      "Epoch 92/100\n",
      "60000/60000 [==============================] - 4s 69us/step - loss: 0.0529 - acc: 0.9876\n",
      "Epoch 93/100\n",
      "60000/60000 [==============================] - 4s 68us/step - loss: 0.0521 - acc: 0.9879\n",
      "Epoch 94/100\n",
      "60000/60000 [==============================] - 4s 69us/step - loss: 0.0514 - acc: 0.9882\n",
      "Epoch 95/100\n",
      "60000/60000 [==============================] - 3s 57us/step - loss: 0.0507 - acc: 0.9884\n",
      "Epoch 96/100\n",
      "60000/60000 [==============================] - 4s 71us/step - loss: 0.0500 - acc: 0.9888\n",
      "Epoch 97/100\n",
      "60000/60000 [==============================] - 4s 65us/step - loss: 0.0493 - acc: 0.9889\n",
      "Epoch 98/100\n",
      "60000/60000 [==============================] - 4s 62us/step - loss: 0.0486 - acc: 0.9892\n",
      "Epoch 99/100\n",
      "60000/60000 [==============================] - 4s 61us/step - loss: 0.0479 - acc: 0.9896\n",
      "Epoch 100/100\n",
      "60000/60000 [==============================] - 4s 63us/step - loss: 0.0473 - acc: 0.9896\n"
     ]
    },
    {
     "data": {
      "text/plain": [
       "<keras.callbacks.History at 0x12caa1ba8>"
      ]
     },
     "execution_count": 130,
     "metadata": {},
     "output_type": "execute_result"
    }
   ],
   "source": [
    "model.fit(train_X, train_y_hot, epochs=100)"
   ]
  },
  {
   "cell_type": "code",
   "execution_count": 131,
   "metadata": {},
   "outputs": [
    {
     "name": "stdout",
     "output_type": "stream",
     "text": [
      "10000/10000 [==============================] - 0s 23us/step\n"
     ]
    },
    {
     "data": {
      "text/plain": [
       "[0.11561109076980501, 0.9671]"
      ]
     },
     "execution_count": 131,
     "metadata": {},
     "output_type": "execute_result"
    }
   ],
   "source": [
    "model.evaluate(test_X, test_y_hot)"
   ]
  },
  {
   "cell_type": "code",
   "execution_count": 137,
   "metadata": {},
   "outputs": [],
   "source": [
    "# create model w/ relu \n",
    "model = Sequential()\n",
    "model.add(Dense(units=int(28*28/2), activation='relu', input_dim=train_X.shape[1]))\n",
    "model.add(Dense(units=10, activation='relu'))\n",
    "model.compile(loss='mean_squared_logarithmic_error', \n",
    "              optimizer='sgd',\n",
    "              metrics=['accuracy'])"
   ]
  },
  {
   "cell_type": "code",
   "execution_count": null,
   "metadata": {},
   "outputs": [
    {
     "name": "stdout",
     "output_type": "stream",
     "text": [
      "Epoch 1/100\n",
      "60000/60000 [==============================] - 1s 18us/step - loss: 0.1826 - acc: 0.1135\n",
      "Epoch 2/100\n",
      "60000/60000 [==============================] - 1s 14us/step - loss: 0.1594 - acc: 0.1159\n",
      "Epoch 3/100\n",
      "60000/60000 [==============================] - 1s 14us/step - loss: 0.1409 - acc: 0.1192\n",
      "Epoch 4/100\n",
      "60000/60000 [==============================] - 1s 14us/step - loss: 0.1262 - acc: 0.1225\n",
      "Epoch 5/100\n",
      "60000/60000 [==============================] - 1s 14us/step - loss: 0.1145 - acc: 0.1255\n",
      "Epoch 6/100\n",
      "60000/60000 [==============================] - 1s 14us/step - loss: 0.1050 - acc: 0.1290\n",
      "Epoch 7/100\n",
      "60000/60000 [==============================] - 1s 14us/step - loss: 0.0972 - acc: 0.1330\n",
      "Epoch 8/100\n",
      "60000/60000 [==============================] - 1s 14us/step - loss: 0.0908 - acc: 0.1371\n",
      "Epoch 9/100\n",
      "60000/60000 [==============================] - 1s 14us/step - loss: 0.0855 - acc: 0.1421\n",
      "Epoch 10/100\n",
      "60000/60000 [==============================] - 1s 14us/step - loss: 0.0811 - acc: 0.1472\n",
      "Epoch 11/100\n",
      "60000/60000 [==============================] - 1s 15us/step - loss: 0.0773 - acc: 0.1525\n",
      "Epoch 12/100\n",
      "60000/60000 [==============================] - 1s 14us/step - loss: 0.0741 - acc: 0.1583\n",
      "Epoch 13/100\n",
      "60000/60000 [==============================] - 1s 14us/step - loss: 0.0713 - acc: 0.1644\n",
      "Epoch 14/100\n",
      "60000/60000 [==============================] - 1s 14us/step - loss: 0.0689 - acc: 0.1705\n",
      "Epoch 15/100\n",
      "60000/60000 [==============================] - 1s 14us/step - loss: 0.0668 - acc: 0.1774\n",
      "Epoch 16/100\n",
      "60000/60000 [==============================] - 1s 15us/step - loss: 0.0650 - acc: 0.1842\n",
      "Epoch 17/100\n",
      "60000/60000 [==============================] - 1s 15us/step - loss: 0.0633 - acc: 0.1907\n",
      "Epoch 18/100\n",
      "60000/60000 [==============================] - 1s 14us/step - loss: 0.0619 - acc: 0.1977\n",
      "Epoch 19/100\n",
      "60000/60000 [==============================] - 1s 15us/step - loss: 0.0606 - acc: 0.2046\n",
      "Epoch 20/100\n",
      "60000/60000 [==============================] - 1s 15us/step - loss: 0.0593 - acc: 0.2118\n",
      "Epoch 21/100\n",
      "60000/60000 [==============================] - 1s 15us/step - loss: 0.0583 - acc: 0.2188\n",
      "Epoch 22/100\n",
      "60000/60000 [==============================] - 1s 14us/step - loss: 0.0572 - acc: 0.2256\n",
      "Epoch 23/100\n",
      "60000/60000 [==============================] - 1s 15us/step - loss: 0.0563 - acc: 0.2328\n",
      "Epoch 24/100\n",
      "60000/60000 [==============================] - 1s 15us/step - loss: 0.0554 - acc: 0.2392\n",
      "Epoch 25/100\n",
      "60000/60000 [==============================] - 1s 14us/step - loss: 0.0546 - acc: 0.2454\n",
      "Epoch 26/100\n",
      "60000/60000 [==============================] - 1s 14us/step - loss: 0.0539 - acc: 0.2513\n",
      "Epoch 27/100\n",
      "60000/60000 [==============================] - 1s 14us/step - loss: 0.0532 - acc: 0.2567\n",
      "Epoch 28/100\n",
      "60000/60000 [==============================] - 1s 14us/step - loss: 0.0525 - acc: 0.2623\n",
      "Epoch 29/100\n",
      "60000/60000 [==============================] - 1s 14us/step - loss: 0.0519 - acc: 0.2675\n",
      "Epoch 30/100\n",
      "60000/60000 [==============================] - 1s 14us/step - loss: 0.0514 - acc: 0.2716\n",
      "Epoch 31/100\n",
      "60000/60000 [==============================] - 1s 15us/step - loss: 0.0508 - acc: 0.2756\n",
      "Epoch 32/100\n",
      "60000/60000 [==============================] - 1s 15us/step - loss: 0.0503 - acc: 0.2793\n",
      "Epoch 33/100\n",
      "60000/60000 [==============================] - 1s 15us/step - loss: 0.0498 - acc: 0.2829\n",
      "Epoch 34/100\n",
      "60000/60000 [==============================] - 1s 15us/step - loss: 0.0494 - acc: 0.2868\n",
      "Epoch 35/100\n",
      "60000/60000 [==============================] - 1s 15us/step - loss: 0.0490 - acc: 0.2901\n",
      "Epoch 36/100\n",
      "60000/60000 [==============================] - 1s 15us/step - loss: 0.0485 - acc: 0.2932\n",
      "Epoch 37/100\n",
      "60000/60000 [==============================] - 1s 14us/step - loss: 0.0482 - acc: 0.2961\n",
      "Epoch 38/100\n",
      "60000/60000 [==============================] - 1s 15us/step - loss: 0.0478 - acc: 0.2990\n",
      "Epoch 39/100\n",
      "60000/60000 [==============================] - 1s 15us/step - loss: 0.0474 - acc: 0.3020\n",
      "Epoch 40/100\n",
      "60000/60000 [==============================] - 1s 16us/step - loss: 0.0471 - acc: 0.3046\n",
      "Epoch 41/100\n",
      "40000/60000 [===================>..........] - ETA: 0s - loss: 0.0468 - acc: 0.3074"
     ]
    }
   ],
   "source": [
    "model.fit(train_X, train_y_hot, epochs=100, batch_size=10000)"
   ]
  },
  {
   "cell_type": "code",
   "execution_count": null,
   "metadata": {},
   "outputs": [],
   "source": [
    "model.evaluate(test_X, test_y_hot)"
   ]
  },
  {
   "cell_type": "code",
   "execution_count": null,
   "metadata": {},
   "outputs": [],
   "source": []
  }
 ],
 "metadata": {
  "kernelspec": {
   "display_name": "Python 3",
   "language": "python",
   "name": "python3"
  },
  "language_info": {
   "codemirror_mode": {
    "name": "ipython",
    "version": 3
   },
   "file_extension": ".py",
   "mimetype": "text/x-python",
   "name": "python",
   "nbconvert_exporter": "python",
   "pygments_lexer": "ipython3",
   "version": "3.6.4"
  }
 },
 "nbformat": 4,
 "nbformat_minor": 2
}
